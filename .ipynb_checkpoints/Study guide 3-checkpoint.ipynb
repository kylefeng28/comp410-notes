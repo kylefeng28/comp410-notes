{
 "cells": [
  {
   "cell_type": "markdown",
   "metadata": {},
   "source": [
    "## Questions\n",
    "\n",
    "- AVL trees? \n",
    "- Delete or lazy delete?\n",
    "\n",
    "- Why load factor 0.5?\n",
    "- What is cuckoo hashing?\n",
    "- How to do topological sort?\n",
    "- Stack vs queue for topo sort? different ordering. queue is more natural\n",
    "- Why is open addressing better than closed?\n",
    "- WHAT IS AMORTIZED ANALYSIS??\n",
    "- Do we have to know weighted graphs?\n",
    "\n",
    "- github in-s-ane\n",
    "- Sinks? Black holes?\n",
    "- Min/max number of nodes in AVL tree?\n",
    "- Min/max height of an AVL tree?\n",
    "\n",
    "## AVL Trees\n",
    "TODO\n",
    "\n",
    "**Minimum number of nodes, given height $h$**\n",
    "- $n(0) = 1$\n",
    "- $n(1) = 2$\n",
    "- $n(h) = 1 + n(h-1) + n(h-2)$\n",
    "\n",
    "## Graphs\n",
    "*Sec. 9.1*  \n",
    "**Definitions**\n",
    "- **Graph** $G = (V, E)$ consists of vertices $V$ and edges $E$\n",
    "- **Path**: Sequence of edges $w_1,w_2,w_3,...w_N$ such that $(w_i,w_{i+1}) \\in E$ for $1 \\leq i \\leq N$\n",
    "- **Path** length: Number of edges on a path. N-1\n",
    "- **Connected, strongly connected, weakly connected**\n",
    "- **Complete graph: edge exists between every pair of vertices**\n",
    "- **Indegree**: Number of edges $(u, v)$; in other words, number of edges leading to $v$\n",
    "\n",
    "## Representation of Graphs\n",
    "**Adjacency matrix**:\n",
    "- Good for dense graphs\n",
    "- 2D array. For an edge $(u, v)$, let `A[u][v]` be true. Otherwise, false.\n",
    "- $|E| = \\Theta(|V^2|)$\n",
    "\n",
    "**Adjacency list**:\n",
    "- Good for sparse graphs\n",
    "- For each vertex, keep a list of all adjacent vertices\n",
    "- Space requirement $O(|E| + |V|)$\n",
    "\n",
    "## Topological sort\n"
   ]
  }
 ],
 "metadata": {
  "kernelspec": {
   "display_name": "Python 2",
   "language": "python",
   "name": "python2"
  },
  "language_info": {
   "codemirror_mode": {
    "name": "ipython",
    "version": 2
   },
   "file_extension": ".py",
   "mimetype": "text/x-python",
   "name": "python",
   "nbconvert_exporter": "python",
   "pygments_lexer": "ipython2",
   "version": "2.7.13"
  }
 },
 "nbformat": 4,
 "nbformat_minor": 2
}
